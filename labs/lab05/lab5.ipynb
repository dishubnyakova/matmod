{
 "cells": [
  {
   "cell_type": "code",
   "execution_count": 2,
   "id": "5a11a6e4-7919-48fa-bbac-6860e496ea5b",
   "metadata": {},
   "outputs": [
    {
     "name": "stdout",
     "output_type": "stream",
     "text": [
      "Стационарное состояние системы:\n",
      "Численность жертв x* = 26.84\n",
      "Численность хищников y* = 10.51\n",
      "Начальные условия: x₀ = 7, y₀ = 9\n",
      "\n",
      "Графики сохранены в файлы:\n",
      "- predator_prey_time.png - временные зависимости\n",
      "- predator_prey_phase.png - фазовый портрет\n"
     ]
    }
   ],
   "source": [
    "using DifferentialEquations, Plots\n",
    "\n",
    "# Параметры модели для варианта 13\n",
    "a = 0.41   # Коэффициент смертности хищников\n",
    "b = 0.039  # Коэффициент взаимодействия хищников  \n",
    "c = 0.51   # Коэффициент прироста жертв\n",
    "d = 0.019  # Коэффициент взаимодействия жертв\n",
    "\n",
    "# Начальные условия\n",
    "u0 = [7.0, 9.0]  # x0 = 7 (жертвы), y0 = 9 (хищники)\n",
    "tspan = (0.0, 100.0)\n",
    "\n",
    "# Система уравнений Лотки-Вольтерры\n",
    "function predator_prey!(du, u, p, t)\n",
    "    x, y = u\n",
    "    du[1] = -a*x + b*x*y    # dx/dt = -0.41x + 0.039xy\n",
    "    du[2] = c*y - d*x*y     # dy/dt = 0.51y - 0.019xy\n",
    "end\n",
    "\n",
    "# Решение системы\n",
    "prob = ODEProblem(predator_prey!, u0, tspan)\n",
    "sol = solve(prob, Tsit5(), reltol=1e-6, abstol=1e-6)\n",
    "\n",
    "# Построение графиков\n",
    "plt1 = plot(sol, idxs=[1, 2], label=[\"Жертвы (x)\" \"Хищники (y)\"], \n",
    "           title=\"Изменение численности популяций\", xlabel=\"Время\", ylabel=\"Численность\",\n",
    "           linewidth=2, legend=:right)\n",
    "\n",
    "# Фазовый портрет\n",
    "plt2 = plot(sol[1,:], sol[2,:], label=\"Фазовая траектория\", linewidth=2,\n",
    "           title=\"Фазовый портрет: хищники vs жертвы\", xlabel=\"Численность жертв\", \n",
    "           ylabel=\"Численность хищников\", legend=false)\n",
    "scatter!(plt2, [7], [9], label=\"Начальная точка\", color=:red)\n",
    "\n",
    "# Стационарное состояние\n",
    "x_stationary = c/d  # Стационарная численность жертв\n",
    "y_stationary = a/b  # Стационарная численность хищников\n",
    "\n",
    "scatter!(plt2, [x_stationary], [y_stationary], label=\"Стационарное состояние\", color=:green)\n",
    "\n",
    "# Отображение графиков\n",
    "plot(plt1, plt2, layout=(2,1), size=(800, 600), dpi=300)\n",
    "\n",
    "# Вывод результатов\n",
    "println(\"Стационарное состояние системы:\")\n",
    "println(\"Численность жертв x* = \", round(x_stationary, digits=2))\n",
    "println(\"Численность хищников y* = \", round(y_stationary, digits=2))\n",
    "println(\"Начальные условия: x₀ = 7, y₀ = 9\")\n",
    "\n",
    "# Сохранение графиков\n",
    "savefig(\"predator_prey_time.png\")\n",
    "savefig(\"predator_prey_phase.png\")\n",
    "\n",
    "println(\"\\nГрафики сохранены в файлы:\")\n",
    "println(\"- predator_prey_time.png - временные зависимости\")\n",
    "println(\"- predator_prey_phase.png - фазовый портрет\")"
   ]
  },
  {
   "cell_type": "code",
   "execution_count": null,
   "id": "49d29d97-8ab1-4d1b-a916-a6f59ae3aaa0",
   "metadata": {},
   "outputs": [],
   "source": []
  }
 ],
 "metadata": {
  "kernelspec": {
   "display_name": "Julia 1.11.6",
   "language": "julia",
   "name": "julia-1.11"
  },
  "language_info": {
   "file_extension": ".jl",
   "mimetype": "application/julia",
   "name": "julia",
   "version": "1.11.6"
  }
 },
 "nbformat": 4,
 "nbformat_minor": 5
}
