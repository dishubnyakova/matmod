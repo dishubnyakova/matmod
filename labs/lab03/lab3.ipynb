{
 "cells": [
  {
   "cell_type": "code",
   "execution_count": 2,
   "id": "690de2b1-dcac-4e37-8a83-d74b64ea5e2a",
   "metadata": {},
   "outputs": [
    {
     "name": "stdout",
     "output_type": "stream",
     "text": [
      "Графики сохранены в файл: combat_models_comparison.png\n",
      "Регулярные войска - конечные значения:\n",
      "Армия X: -364763.0\n",
      "Армия Y: 184940.0\n",
      "\n",
      "С партизанами - конечные значения:\n",
      "Армия X: -0.0\n",
      "Армия Y: 0.0\n"
     ]
    }
   ],
   "source": [
    "using DifferentialEquations, Plots\n",
    "\n",
    "# Параметры задачи\n",
    "x0 = 40000.0  # Начальная численность армии X\n",
    "y0 = 69000.0  # Начальная численность армии Y\n",
    "tspan = (0.0, 50.0)  # Временной интервал\n",
    "\n",
    "# Модель 1: Регулярные войска\n",
    "function regular_combat!(du, u, p, t)\n",
    "    x, y = u\n",
    "    du[1] = -0.331*x - 0.771*y - sin(t + 10) + 1  # dx/dt\n",
    "    du[2] = -0.401*x - 0.731*y - cos(t + 20) + 1  # dy/dt\n",
    "end\n",
    "\n",
    "# Модель 2: С партизанскими отрядами  \n",
    "function partisan_combat!(du, u, p, t)\n",
    "    x, y = u\n",
    "    du[1] = -0.37*x - 0.73*y - 2*sin(6*t)         # dx/dt\n",
    "    du[2] = -0.28*x - y - 0.82*y - 2*cos(4*t)     # dy/dt\n",
    "end\n",
    "\n",
    "# Решение для регулярных войск\n",
    "u0 = [x0, y0]\n",
    "prob_regular = ODEProblem(regular_combat!, u0, tspan)\n",
    "sol_regular = solve(prob_regular, Tsit5(), reltol=1e-6, abstol=1e-6)\n",
    "\n",
    "# Решение для модели с партизанами\n",
    "prob_partisan = ODEProblem(partisan_combat!, u0, tspan) \n",
    "sol_partisan = solve(prob_partisan, Tsit5(), reltol=1e-6, abstol=1e-6)\n",
    "\n",
    "# Построение графиков\n",
    "plt1 = plot(sol_regular, idxs=[1, 2], label=[\"Армия X\" \"Армия Y\"], \n",
    "           title=\"Регулярные войска\", xlabel=\"Время\", ylabel=\"Численность\",\n",
    "           linewidth=2, legend=:right)\n",
    "\n",
    "plt2 = plot(sol_partisan, idxs=[1, 2], label=[\"Армия X\" \"Армия Y\"],\n",
    "           title=\"С партизанскими отрядами\", xlabel=\"Время\", ylabel=\"Численность\", \n",
    "           linewidth=2, legend=:right)\n",
    "\n",
    "# Отображение графиков\n",
    "plot(plt1, plt2, layout=(2,1), size=(800, 600), dpi=300)\n",
    "\n",
    "# Сохранение результатов\n",
    "savefig(\"combat_models_comparison.png\")\n",
    "println(\"Графики сохранены в файл: combat_models_comparison.png\")\n",
    "\n",
    "# Анализ результатов\n",
    "println(\"Регулярные войска - конечные значения:\")\n",
    "println(\"Армия X: \", round(sol_regular[1,end], digits=0))\n",
    "println(\"Армия Y: \", round(sol_regular[2,end], digits=0))\n",
    "\n",
    "println(\"\\nС партизанами - конечные значения:\")\n",
    "println(\"Армия X: \", round(sol_partisan[1,end], digits=0)) \n",
    "println(\"Армия Y: \", round(sol_partisan[2,end], digits=0))"
   ]
  },
  {
   "cell_type": "code",
   "execution_count": null,
   "id": "d930a1ec-769b-4fc1-b376-4633843da7f5",
   "metadata": {},
   "outputs": [],
   "source": []
  }
 ],
 "metadata": {
  "kernelspec": {
   "display_name": "Julia 1.11.6",
   "language": "julia",
   "name": "julia-1.11"
  },
  "language_info": {
   "file_extension": ".jl",
   "mimetype": "application/julia",
   "name": "julia",
   "version": "1.11.6"
  }
 },
 "nbformat": 4,
 "nbformat_minor": 5
}
